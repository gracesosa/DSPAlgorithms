{
 "cells": [
  {
   "cell_type": "code",
   "execution_count": null,
   "metadata": {},
   "outputs": [],
   "source": [
    "from sensor_core import strg_manager\n",
    "import numpy as np\n",
    "import scipy.signal as signal\n",
    "import matplotlib.pyplot as plt"
   ]
  },
  {
   "cell_type": "code",
   "execution_count": null,
   "metadata": {},
   "outputs": [],
   "source": [
    "# Find available serial ports\n",
    "ser_manager.find_serial()"
   ]
  },
  {
   "cell_type": "code",
   "execution_count": null,
   "metadata": {},
   "outputs": [],
   "source": [
    "# To load channel data using Storage Manager\n",
    "database, red = strg_manager.StorageManager.load_serial_channel(key=\"red\",\n",
    "                                                                filepath=\"./serial_db.sqlite3\",\n",
    "                                                                keep_db_open=True)"
   ]
  },
  {
   "cell_type": "code",
   "execution_count": null,
   "metadata": {},
   "outputs": [],
   "source": [
    "with database:\n",
    "    ir = database['infrared']\n",
    "    violet = database['violet']\n",
    "database.close()"
   ]
  },
  {
   "cell_type": "code",
   "execution_count": null,
   "metadata": {},
   "outputs": [],
   "source": [
    "#Data before filtering\n",
    "plt.plot(ir)"
   ]
  },
  {
   "cell_type": "code",
   "execution_count": null,
   "metadata": {},
   "outputs": [],
   "source": [
    "def ba_butter_bandpass(data_shared, min_frq, max_frq, N):\n",
    "    b, a = signal.butter(N, [min_frq, max_frq], 'band', analog = False, output = 'ba', fs = 100)\n",
    "    filtered = signal.filtfilt(b, a, data_shared)\n",
    "    #return filtered\n",
    "    filtered_data = np.dstack([data_shared[0], filtered])[0]"
   ]
  },
  {
   "cell_type": "code",
   "execution_count": null,
   "metadata": {},
   "outputs": [],
   "source": [
    "%%time\n",
    "#Testing scalability and efficiency, bandpass parameters are 0.5Hz-5Hz, order N = 4\n",
    "\n",
    "for i in range(1000):\n",
    "    ba_filtered_data = ba_butter_bandpass(data_shared, 0.5, 5, 4)"
   ]
  },
  {
   "cell_type": "code",
   "execution_count": null,
   "metadata": {},
   "outputs": [],
   "source": [
    "#Testing data filtering\n",
    "plt.plot(data_shared)\n",
    "plt.plot(ba_filtered_data)\n",
    "plt.legend([\"og_data\", \"ba_filt\"])\n",
    "plt.show()"
   ]
  }
 ],
 "metadata": {
  "kernelspec": {
   "display_name": "Python 3",
   "language": "python",
   "name": "python3"
  },
  "language_info": {
   "name": "python",
   "version": "3.11.5"
  }
 },
 "nbformat": 4,
 "nbformat_minor": 2
}

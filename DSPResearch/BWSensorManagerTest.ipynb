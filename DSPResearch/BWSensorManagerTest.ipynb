{
 "cells": [
  {
   "cell_type": "code",
   "execution_count": 5,
   "metadata": {},
   "outputs": [],
   "source": [
    "from sensor_core import strg_manager\n",
    "import numpy as np\n",
    "import scipy.signal as signal\n",
    "import matplotlib.pyplot as plt"
   ]
  },
  {
   "cell_type": "code",
   "execution_count": null,
   "metadata": {},
   "outputs": [],
   "source": [
    "# Find available serial ports\n",
    "ser_manager.find_serial()"
   ]
  },
  {
   "cell_type": "code",
   "execution_count": 6,
   "metadata": {},
   "outputs": [
    {
     "ename": "NameError",
     "evalue": "name 'strg_manager' is not defined",
     "output_type": "error",
     "traceback": [
      "\u001b[1;31m---------------------------------------------------------------------------\u001b[0m",
      "\u001b[1;31mNameError\u001b[0m                                 Traceback (most recent call last)",
      "\u001b[1;32mc:\\Users\\grace\\Desktop\\DSPAlgorithms\\DSPResearch\\BWSensorManagerTest.ipynb Cell 3\u001b[0m line \u001b[0;36m2\n\u001b[0;32m      <a href='vscode-notebook-cell:/c%3A/Users/grace/Desktop/DSPAlgorithms/DSPResearch/BWSensorManagerTest.ipynb#W2sZmlsZQ%3D%3D?line=0'>1</a>\u001b[0m \u001b[39m# To load channel data using Storage Manager\u001b[39;00m\n\u001b[1;32m----> <a href='vscode-notebook-cell:/c%3A/Users/grace/Desktop/DSPAlgorithms/DSPResearch/BWSensorManagerTest.ipynb#W2sZmlsZQ%3D%3D?line=1'>2</a>\u001b[0m database, red \u001b[39m=\u001b[39m strg_manager\u001b[39m.\u001b[39mStorageManager\u001b[39m.\u001b[39mload_serial_channel(key\u001b[39m=\u001b[39m\u001b[39m\"\u001b[39m\u001b[39mred\u001b[39m\u001b[39m\"\u001b[39m,\n\u001b[0;32m      <a href='vscode-notebook-cell:/c%3A/Users/grace/Desktop/DSPAlgorithms/DSPResearch/BWSensorManagerTest.ipynb#W2sZmlsZQ%3D%3D?line=2'>3</a>\u001b[0m                                                                 filepath\u001b[39m=\u001b[39m\u001b[39m\"\u001b[39m\u001b[39m./serial_db.sqlite3\u001b[39m\u001b[39m\"\u001b[39m,\n\u001b[0;32m      <a href='vscode-notebook-cell:/c%3A/Users/grace/Desktop/DSPAlgorithms/DSPResearch/BWSensorManagerTest.ipynb#W2sZmlsZQ%3D%3D?line=3'>4</a>\u001b[0m                                                                 keep_db_open\u001b[39m=\u001b[39m\u001b[39mTrue\u001b[39;00m)\n",
      "\u001b[1;31mNameError\u001b[0m: name 'strg_manager' is not defined"
     ]
    }
   ],
   "source": [
    "# To load channel data using Storage Manager (Jupyter lab)\n",
    "database, red = strg_manager.StorageManager.load_serial_channel(key=\"red\",\n",
    "                                                                filepath=\"./serial_db.sqlite3\",\n",
    "                                                                keep_db_open=True)"
   ]
  },
  {
   "cell_type": "code",
   "execution_count": null,
   "metadata": {},
   "outputs": [],
   "source": [
    "with database:\n",
    "    ir = database['infrared']\n",
    "    violet = database['violet']\n",
    "database.close()"
   ]
  },
  {
   "cell_type": "code",
   "execution_count": null,
   "metadata": {},
   "outputs": [],
   "source": [
    "#Data before filtering\n",
    "plt.plot(ir)"
   ]
  },
  {
   "cell_type": "code",
   "execution_count": 2,
   "metadata": {},
   "outputs": [],
   "source": [
    "def ba_butter_bandpass(data_shared, min_frq, max_frq, N):\n",
    "    b, a = signal.butter(N, [min_frq, max_frq], 'band', analog = False, output = 'ba', fs = 100)\n",
    "    filtered = signal.filtfilt(b, a, data_shared)\n",
    "    return filtered\n",
    "    #filtered_data = np.dstack([data_shared[0], filtered])[0]"
   ]
  },
  {
   "cell_type": "code",
   "execution_count": 3,
   "metadata": {},
   "outputs": [
    {
     "ename": "NameError",
     "evalue": "name 'ir' is not defined",
     "output_type": "error",
     "traceback": [
      "\u001b[1;31m---------------------------------------------------------------------------\u001b[0m",
      "\u001b[1;31mNameError\u001b[0m                                 Traceback (most recent call last)",
      "\u001b[1;32mc:\\Users\\grace\\Desktop\\DSPAlgorithms\\DSPResearch\\BWSensorManagerTest.ipynb Cell 7\u001b[0m line \u001b[0;36m1\n\u001b[1;32m----> <a href='vscode-notebook-cell:/c%3A/Users/grace/Desktop/DSPAlgorithms/DSPResearch/BWSensorManagerTest.ipynb#X11sZmlsZQ%3D%3D?line=0'>1</a>\u001b[0m data_shared \u001b[39m=\u001b[39m ir\n",
      "\u001b[1;31mNameError\u001b[0m: name 'ir' is not defined"
     ]
    }
   ],
   "source": [
    "data_shared = ir"
   ]
  },
  {
   "cell_type": "code",
   "execution_count": 1,
   "metadata": {},
   "outputs": [
    {
     "ename": "NameError",
     "evalue": "name 'ba_butter_bandpass' is not defined",
     "output_type": "error",
     "traceback": [
      "\u001b[1;31m---------------------------------------------------------------------------\u001b[0m",
      "\u001b[1;31mNameError\u001b[0m                                 Traceback (most recent call last)",
      "File \u001b[1;32m<timed exec>:4\u001b[0m\n",
      "\u001b[1;31mNameError\u001b[0m: name 'ba_butter_bandpass' is not defined"
     ]
    }
   ],
   "source": [
    "%%time\n",
    "#Testing scalability and efficiency, bandpass parameters are 0.5Hz-5Hz, order N = 4\n",
    "\n",
    "for i in range(1000):\n",
    "    ba_filtered_data = ba_butter_bandpass(data_shared, 0.5, 5, 4)"
   ]
  },
  {
   "cell_type": "code",
   "execution_count": null,
   "metadata": {},
   "outputs": [],
   "source": [
    "#Testing data filtering\n",
    "plt.plot(data_shared)\n",
    "plt.plot(ba_filtered_data)\n",
    "plt.legend([\"og_data\", \"ba_filt\"])\n",
    "plt.show()"
   ]
  }
 ],
 "metadata": {
  "kernelspec": {
   "display_name": "Python 3",
   "language": "python",
   "name": "python3"
  },
  "language_info": {
   "codemirror_mode": {
    "name": "ipython",
    "version": 3
   },
   "file_extension": ".py",
   "mimetype": "text/x-python",
   "name": "python",
   "nbconvert_exporter": "python",
   "pygments_lexer": "ipython3",
   "version": "3.11.5"
  }
 },
 "nbformat": 4,
 "nbformat_minor": 2
}
